{
 "cells": [
  {
   "cell_type": "code",
   "execution_count": null,
   "id": "4ae57e6c",
   "metadata": {},
   "outputs": [],
   "source": [
    "# Import necessary libraries\n",
    "import cv2\n",
    "import numpy as np\n",
    "import matplotlib.pyplot as plt\n",
    "from class_SeamCarver import SeamCarver\n",
    "\n",
    "\n",
    "# 1) Load the image\n",
    "image = cv2.imread('broadway_original.webp')\n",
    "\n",
    "# 2) Create a SeamCarver object\n",
    "sc = SeamCarver(image)\n",
    "\n",
    "# 3) Define the number of seams to remove\n",
    "num_seams = 20\n",
    "\n",
    "# 4) Perform seam carving\n",
    "carved_image = sc.seam_carve(num_seams, method='l1', orientation='horizontal') \n",
    "carved_image2 = sc.seam_carve(num_seams, method='l2', orientation='horizontal') \n",
    "\n",
    "# 5) Display the original and carved images\n",
    "plt.figure(figsize=(18, 6))\n",
    "\n",
    "plt.subplot(1, 3, 1)\n",
    "plt.imshow(cv2.cvtColor(image, cv2.COLOR_BGR2RGB))\n",
    "plt.title('Original Image')\n",
    "plt.axis('off')\n",
    "\n",
    "plt.subplot(1, 3, 2)\n",
    "plt.imshow(cv2.cvtColor(carved_image.astype(np.uint8), cv2.COLOR_BGR2RGB))\n",
    "plt.title('Carved Image l1')\n",
    "plt.axis('off')\n",
    "\n",
    "plt.subplot(1, 3, 3)\n",
    "plt.imshow(cv2.cvtColor(carved_image2.astype(np.uint8), cv2.COLOR_BGR2RGB))\n",
    "plt.title('Carved Image l2')\n",
    "plt.axis('off')\n",
    "\n",
    "plt.tight_layout()\n",
    "plt.show()\n",
    "\n",
    "print(\"Original Image Shape:\", image.shape)\n",
    "print(\"Carved Image Shape:\", carved_image.shape)\n",
    "print(\"Carved Image2 Shape:\", carved_image2.shape)\n",
    "\n",
    "cv2.imwrite(\"l1method.jpg\", carved_image)\n",
    "cv2.imwrite(\"l2method.jpg\", carved_image2)\n",
    "\n",
    "\n",
    "\n"
   ]
  },
  {
   "cell_type": "code",
   "execution_count": null,
   "id": "eb132830",
   "metadata": {},
   "outputs": [
    {
     "name": "stdout",
     "output_type": "stream",
     "text": [
      "l1                        → score de saillance préservée : 25321.69\n",
      "l1                        → score de saillance préservée : 25321.69\n",
      "l2                        → score de saillance préservée : 24143.77\n"
     ]
    },
    {
     "data": {
      "text/plain": [
       "{'l1': np.float64(25321.686395159373), 'l2': np.float64(24143.77302650951)}"
      ]
     },
     "execution_count": 2,
     "metadata": {},
     "output_type": "execute_result"
    }
   ],
   "source": [
    "from class_SeamCarver import compare_saliency_preservation\n",
    "\n",
    "# Appliquer seam carving avec plusieurs méthodes\n",
    "\n",
    "\n",
    "reduced_images = {\n",
    "    \"l1\": cv2.imread(\"l1method.jpg\"),\n",
    "    \"l2\": cv2.imread(\"l2method.jpg\")\n",
    "}\n",
    "\n",
    "compare_saliency_preservation(image, reduced_images)"
   ]
  }
 ],
 "metadata": {
  "kernelspec": {
   "display_name": "venv",
   "language": "python",
   "name": "python3"
  },
  "language_info": {
   "codemirror_mode": {
    "name": "ipython",
    "version": 3
   },
   "file_extension": ".py",
   "mimetype": "text/x-python",
   "name": "python",
   "nbconvert_exporter": "python",
   "pygments_lexer": "ipython3",
   "version": "3.12.10"
  }
 },
 "nbformat": 4,
 "nbformat_minor": 5
}
