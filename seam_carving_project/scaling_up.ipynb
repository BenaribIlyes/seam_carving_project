{
 "cells": [
  {
   "cell_type": "code",
   "execution_count": 3,
   "id": "e295f07f",
   "metadata": {},
   "outputs": [
    {
     "name": "stdout",
     "output_type": "stream",
     "text": [
      "Original Image Shape: (384, 512, 3)\n"
     ]
    }
   ],
   "source": [
    "# Import necessary libraries\n",
    "\n",
    "# For the seam carving algorithm\n",
    "import cv2 # type: ignore\n",
    "import numpy as np\n",
    "import matplotlib.pyplot as plt\n",
    "\n",
    "#For the entropy energy map\n",
    "from skimage.filters import rank\n",
    "from skimage.morphology import disk\n",
    "\n",
    "# For the HoG energy map\n",
    "from skimage.feature import hog\n",
    "from skimage.color   import rgb2gray\n",
    "\n",
    "# To use the Numba JIT compiler\n",
    "from numba import njit\n",
    "\n",
    "# To use joblib for parallel processing\n",
    "from joblib import Parallel, delayed\n",
    "\n",
    "# Load the image\n",
    "image_ref = cv2.imread('desert.jpg')\n",
    "\n",
    "\n",
    "\n",
    "from class_SeamCarver import SeamCarver\n",
    "\n",
    "print(\"Original Image Shape:\", image_ref.shape)"
   ]
  },
  {
   "cell_type": "code",
   "execution_count": null,
   "id": "35877098",
   "metadata": {},
   "outputs": [],
   "source": [
    "# 1) Create a SeamCarver object\n",
    "sc = SeamCarver(image_ref)\n",
    "\n",
    "# 2) Define the number of seams to remove\n",
    "num_seams = 50\n",
    "\n",
    "# 3) Perform seam carving\n",
    "history = sc.collect_seams(num_seams, method='l1',orientation='vertical')\n",
    "print (history)\n",
    "carved_image = sc.upsize(image_ref, num_seams, method='l1',orientation='vertical') \n",
    "\n",
    "# 4) Display the original and carved images\n",
    "plt.figure(figsize=(12, 6))\n",
    "\n",
    "plt.subplot(1, 2, 1)\n",
    "plt.imshow(cv2.cvtColor(image_ref, cv2.COLOR_BGR2RGB))\n",
    "plt.title('Original Image')\n",
    "plt.axis('off')\n",
    "\n",
    "plt.subplot(1, 2, 2)\n",
    "plt.imshow(cv2.cvtColor(carved_image.astype(np.uint8), cv2.COLOR_BGR2RGB))\n",
    "plt.title('Carved Image')\n",
    "plt.axis('off')\n",
    "\n",
    "plt.tight_layout()\n",
    "plt.show()\n",
    "\n",
    "print(\"Original Image Shape:\", image_ref.shape)\n",
    "print(\"Carved Image Shape:\", carved_image.shape)"
   ]
  }
 ],
 "metadata": {
  "kernelspec": {
   "display_name": "venv",
   "language": "python",
   "name": "python3"
  },
  "language_info": {
   "codemirror_mode": {
    "name": "ipython",
    "version": 3
   },
   "file_extension": ".py",
   "mimetype": "text/x-python",
   "name": "python",
   "nbconvert_exporter": "python",
   "pygments_lexer": "ipython3",
   "version": "3.12.10"
  }
 },
 "nbformat": 4,
 "nbformat_minor": 5
}
