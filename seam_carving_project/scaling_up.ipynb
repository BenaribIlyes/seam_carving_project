{
 "cells": [
  {
   "cell_type": "code",
   "execution_count": 1,
   "id": "e295f07f",
   "metadata": {},
   "outputs": [
    {
     "name": "stdout",
     "output_type": "stream",
     "text": [
      "Original Image Shape: (384, 512, 3)\n"
     ]
    }
   ],
   "source": [
    "# Import necessary libraries\n",
    "\n",
    "# For the seam carving algorithm\n",
    "import cv2 # type: ignore\n",
    "import numpy as np\n",
    "import matplotlib.pyplot as plt\n",
    "\n",
    "#For the entropy energy map\n",
    "from skimage.filters import rank\n",
    "from skimage.morphology import disk\n",
    "\n",
    "# For the HoG energy map\n",
    "from skimage.feature import hog\n",
    "from skimage.color   import rgb2gray\n",
    "\n",
    "# To use the Numba JIT compiler\n",
    "from numba import njit\n",
    "\n",
    "# To use joblib for parallel processing\n",
    "from joblib import Parallel, delayed\n",
    "\n",
    "# Load the image\n",
    "image_ref = cv2.imread('desert.jpg')\n",
    "\n",
    "\n",
    "\n",
    "from class_SeamCarver import SeamCarver\n",
    "\n",
    "print(\"Original Image Shape:\", image_ref.shape)"
   ]
  },
  {
   "cell_type": "code",
   "execution_count": null,
   "id": "35877098",
   "metadata": {},
   "outputs": [
    {
     "ename": "ValueError",
     "evalue": "cannot assign slice of shape (383,) from input of shape (382,)",
     "output_type": "error",
     "traceback": [
      "\u001b[31m---------------------------------------------------------------------------\u001b[39m",
      "\u001b[31mValueError\u001b[39m                                Traceback (most recent call last)",
      "\u001b[36mCell\u001b[39m\u001b[36m \u001b[39m\u001b[32mIn[3]\u001b[39m\u001b[32m, line 8\u001b[39m\n\u001b[32m      5\u001b[39m num_seams = \u001b[32m100\u001b[39m\n\u001b[32m      7\u001b[39m \u001b[38;5;66;03m# 3) Perform seam carving\u001b[39;00m\n\u001b[32m----> \u001b[39m\u001b[32m8\u001b[39m history = \u001b[43msc\u001b[49m\u001b[43m.\u001b[49m\u001b[43mcollect_seams\u001b[49m\u001b[43m(\u001b[49m\u001b[43mnum_seams\u001b[49m\u001b[43m,\u001b[49m\u001b[43m \u001b[49m\u001b[43mmethod\u001b[49m\u001b[43m=\u001b[49m\u001b[33;43m'\u001b[39;49m\u001b[33;43ml1\u001b[39;49m\u001b[33;43m'\u001b[39;49m\u001b[43m,\u001b[49m\u001b[43morientation\u001b[49m\u001b[43m=\u001b[49m\u001b[33;43m'\u001b[39;49m\u001b[33;43mhorizontal\u001b[39;49m\u001b[33;43m'\u001b[39;49m\u001b[43m)\u001b[49m\n\u001b[32m      9\u001b[39m \u001b[38;5;28mprint\u001b[39m (history)\n\u001b[32m     10\u001b[39m carved_image = sc.upsize(image_ref, num_seams, method=\u001b[33m'\u001b[39m\u001b[33ml1\u001b[39m\u001b[33m'\u001b[39m,orientation=\u001b[33m'\u001b[39m\u001b[33mhorizontal\u001b[39m\u001b[33m'\u001b[39m) \n",
      "\u001b[36mFile \u001b[39m\u001b[32mc:\\Users\\bertr\\Seam_carving_v4\\seam_carving_project\\class_SeamCarver.py:500\u001b[39m, in \u001b[36mSeamCarver.collect_seams\u001b[39m\u001b[34m(self, num_seams, method, orientation)\u001b[39m\n\u001b[32m    498\u001b[39m     seam = \u001b[38;5;28mself\u001b[39m.find_seam(img_copy, energy, orientation)\n\u001b[32m    499\u001b[39m     history.append(seam)\n\u001b[32m--> \u001b[39m\u001b[32m500\u001b[39m     img_copy = \u001b[38;5;28;43mself\u001b[39;49m\u001b[43m.\u001b[49m\u001b[43mremove_seam\u001b[49m\u001b[43m(\u001b[49m\u001b[43mimg_copy\u001b[49m\u001b[43m,\u001b[49m\u001b[43m \u001b[49m\u001b[43mseam\u001b[49m\u001b[43m,\u001b[49m\u001b[43m \u001b[49m\u001b[43morientation\u001b[49m\u001b[43m)\u001b[49m\n\u001b[32m    501\u001b[39m \u001b[38;5;66;03m# On stocke ces seams *dans l'ordre d'extraction*\u001b[39;00m\n\u001b[32m    502\u001b[39m \u001b[38;5;28;01mreturn\u001b[39;00m history\n",
      "\u001b[36mFile \u001b[39m\u001b[32mc:\\Users\\bertr\\Seam_carving_v4\\seam_carving_project\\class_SeamCarver.py:335\u001b[39m, in \u001b[36mSeamCarver.remove_seam\u001b[39m\u001b[34m(self, image, seam, orientation)\u001b[39m\n\u001b[32m    334\u001b[39m \u001b[38;5;28;01mdef\u001b[39;00m\u001b[38;5;250m \u001b[39m\u001b[34mremove_seam\u001b[39m(\u001b[38;5;28mself\u001b[39m, image: np.ndarray, seam: np.ndarray, orientation: \u001b[38;5;28mstr\u001b[39m = \u001b[33m'\u001b[39m\u001b[33mvertical\u001b[39m\u001b[33m'\u001b[39m) -> np.ndarray:\n\u001b[32m--> \u001b[39m\u001b[32m335\u001b[39m     \u001b[38;5;28;01mreturn\u001b[39;00m \u001b[43mremove_seam_numba\u001b[49m\u001b[43m(\u001b[49m\u001b[43mimage\u001b[49m\u001b[43m,\u001b[49m\u001b[43m \u001b[49m\u001b[43mseam\u001b[49m\u001b[43m,\u001b[49m\u001b[43m \u001b[49m\u001b[43morientation\u001b[49m\u001b[43m)\u001b[49m\n",
      "\u001b[36mFile \u001b[39m\u001b[32mc:\\Users\\bertr\\Seam_carving_v4\\venv\\Lib\\site-packages\\numba\\np\\arrayobj.py:1661\u001b[39m, in \u001b[36mimpl\u001b[39m\u001b[34m()\u001b[39m\n\u001b[32m   1658\u001b[39m     index_str = \u001b[33mf\u001b[39m\u001b[33m\"\u001b[39m\u001b[33m(\u001b[39m\u001b[38;5;132;01m{\u001b[39;00m\u001b[33m'\u001b[39m\u001b[33m, \u001b[39m\u001b[33m'\u001b[39m.join([\u001b[38;5;28mstr\u001b[39m(x)\u001b[38;5;250m \u001b[39m\u001b[38;5;28;01mfor\u001b[39;00m\u001b[38;5;250m \u001b[39mx\u001b[38;5;250m \u001b[39m\u001b[38;5;129;01min\u001b[39;00m\u001b[38;5;250m \u001b[39mindex_shape])\u001b[38;5;132;01m}\u001b[39;00m\u001b[33m)\u001b[39m\u001b[33m\"\u001b[39m\n\u001b[32m   1659\u001b[39m msg = (\u001b[33mf\u001b[39m\u001b[33m\"\u001b[39m\u001b[33mcannot assign slice of shape \u001b[39m\u001b[38;5;132;01m{\u001b[39;00mshape_str\u001b[38;5;132;01m}\u001b[39;00m\u001b[33m from input of \u001b[39m\u001b[33m\"\u001b[39m\n\u001b[32m   1660\u001b[39m        \u001b[33mf\u001b[39m\u001b[33m\"\u001b[39m\u001b[33mshape \u001b[39m\u001b[38;5;132;01m{\u001b[39;00mindex_str\u001b[38;5;132;01m}\u001b[39;00m\u001b[33m\"\u001b[39m)\n\u001b[32m-> \u001b[39m\u001b[32m1661\u001b[39m \u001b[38;5;28;01mraise\u001b[39;00m \u001b[38;5;167;01mValueError\u001b[39;00m(msg)\n",
      "\u001b[31mValueError\u001b[39m: cannot assign slice of shape (383,) from input of shape (382,)"
     ]
    }
   ],
   "source": [
    "# 1) Create a SeamCarver object\n",
    "sc = SeamCarver(image_ref)\n",
    "\n",
    "# 2) Define the number of seams to remove\n",
    "num_seams = 100\n",
    "\n",
    "# 3) Perform seam carving\n",
    "history = sc.collect_seams(num_seams, method='l1',orientation='vertical')\n",
    "print (history)\n",
    "carved_image = sc.upsize(image_ref, num_seams, method='l1',orientation='vertical') \n",
    "\n",
    "# 4) Display the original and carved images\n",
    "plt.figure(figsize=(12, 6))\n",
    "\n",
    "plt.subplot(1, 2, 1)\n",
    "plt.imshow(cv2.cvtColor(image_ref, cv2.COLOR_BGR2RGB))\n",
    "plt.title('Original Image')\n",
    "plt.axis('off')\n",
    "\n",
    "plt.subplot(1, 2, 2)\n",
    "plt.imshow(cv2.cvtColor(carved_image.astype(np.uint8), cv2.COLOR_BGR2RGB))\n",
    "plt.title('Carved Image')\n",
    "plt.axis('off')\n",
    "\n",
    "plt.tight_layout()\n",
    "plt.show()\n",
    "\n",
    "print(\"Original Image Shape:\", image_ref.shape)\n",
    "print(\"Carved Image Shape:\", carved_image.shape)"
   ]
  }
 ],
 "metadata": {
  "kernelspec": {
   "display_name": "venv",
   "language": "python",
   "name": "python3"
  },
  "language_info": {
   "codemirror_mode": {
    "name": "ipython",
    "version": 3
   },
   "file_extension": ".py",
   "mimetype": "text/x-python",
   "name": "python",
   "nbconvert_exporter": "python",
   "pygments_lexer": "ipython3",
   "version": "3.12.10"
  }
 },
 "nbformat": 4,
 "nbformat_minor": 5
}
