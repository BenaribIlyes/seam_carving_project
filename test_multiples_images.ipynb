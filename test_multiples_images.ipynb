{
 "cells": [
  {
   "cell_type": "code",
   "execution_count": 1,
   "id": "7daa2d63",
   "metadata": {},
   "outputs": [
    {
     "name": "stderr",
     "output_type": "stream",
     "text": [
      "[ WARN:0@0.818] global loadsave.cpp:268 findDecoder imread_('/home/zebre/Bureau/seam_carving_project/dataset-20110512/canal_house/canal_house.png'): can't open/read file: check file path/integrity\n"
     ]
    }
   ],
   "source": [
    "\n",
    "# Import necessary libraries\n",
    "\n",
    "# For the seam carving algorithm\n",
    "import cv2 # type: ignore\n",
    "import numpy as np\n",
    "import matplotlib.pyplot as plt\n",
    "\n",
    "#For the entropy energy map\n",
    "from skimage.filters import rank\n",
    "from skimage.morphology import disk\n",
    "\n",
    "# For the HoG energy map\n",
    "from skimage.feature import hog\n",
    "from skimage.color   import rgb2gray\n",
    "\n",
    "# To use the Numba JIT compiler\n",
    "from numba import njit\n",
    "\n",
    "# To use joblib for parallel processing\n",
    "from joblib import Parallel, delayed\n",
    "\n",
    "# Load the image\n",
    "image_ref = cv2.imread('broadway_original.webp')\n",
    "girls_image = cv2.imread('/home/zebre/Bureau/seam_carving_project/dataset-20110512/girls/girls.png')\n",
    "bike_image= cv2.imread('/home/zebre/Bureau/seam_carving_project/dataset-20110512/bike/bike.png')\n",
    "canal_house_image = cv2.imread('/home/zebre/Bureau/seam_carving_project/dataset-20110512/canal_house/canal_house.png')\n",
    "house_image = cv2.imread('/home/zebre/Bureau/seam_carving_project/dataset-20110512/house/house.png')\n",
    "\n",
    "\n",
    "from class_SeamCarver import SeamCarver"
   ]
  },
  {
   "cell_type": "code",
   "execution_count": null,
   "id": "cec57fe8",
   "metadata": {},
   "outputs": [],
   "source": [
    "# 1) Create a SeamCarver object\n",
    "sc = SeamCarver(bike_image)\n",
    "\n",
    "# 2) Define the number of seams to remove\n",
    "num_seams = 100\n",
    "\n",
    "# 3) Perform seam carving\n",
    "carved_image = sc.seam_carve(num_seams, method='l1',orientation=1) # 0 for vertical seams, 1 for horizontal seams\n",
    "\n",
    "# 4) Display the original and carved images\n",
    "plt.figure(figsize=(12, 6))\n",
    "\n",
    "plt.subplot(1, 2, 1)\n",
    "plt.imshow(cv2.cvtColor(bike_image, cv2.COLOR_BGR2RGB))\n",
    "plt.title('Original Image')\n",
    "plt.axis('off')\n",
    "\n",
    "plt.subplot(1, 2, 2)\n",
    "plt.imshow(cv2.cvtColor(carved_image.astype(np.uint8), cv2.COLOR_BGR2RGB))\n",
    "plt.title('Carved Image')\n",
    "plt.axis('off')\n",
    "\n",
    "plt.tight_layout()\n",
    "plt.show()\n",
    "\n",
    "print(\"Original Image Shape:\", bike_image.shape)\n",
    "print(\"Carved Image Shape:\", carved_image.shape)"
   ]
  },
  {
   "cell_type": "code",
   "execution_count": null,
   "id": "c582fbff",
   "metadata": {},
   "outputs": [
    {
     "ename": "KeyboardInterrupt",
     "evalue": "",
     "output_type": "error",
     "traceback": [
      "\u001b[31m---------------------------------------------------------------------------\u001b[39m",
      "\u001b[31mKeyboardInterrupt\u001b[39m                         Traceback (most recent call last)",
      "\u001b[36mCell\u001b[39m\u001b[36m \u001b[39m\u001b[32mIn[5]\u001b[39m\u001b[32m, line 8\u001b[39m\n\u001b[32m      5\u001b[39m num_seams = \u001b[32m200\u001b[39m\n\u001b[32m      7\u001b[39m \u001b[38;5;66;03m# 3) Perform seam carving\u001b[39;00m\n\u001b[32m----> \u001b[39m\u001b[32m8\u001b[39m carved_image = \u001b[43msc\u001b[49m\u001b[43m.\u001b[49m\u001b[43mseam_carve\u001b[49m\u001b[43m(\u001b[49m\u001b[43mnum_seams\u001b[49m\u001b[43m,\u001b[49m\u001b[43m \u001b[49m\u001b[43mmethod\u001b[49m\u001b[43m=\u001b[49m\u001b[33;43m'\u001b[39;49m\u001b[33;43mfast_HOG\u001b[39;49m\u001b[33;43m'\u001b[39;49m\u001b[43m,\u001b[49m\u001b[43morientation\u001b[49m\u001b[43m=\u001b[49m\u001b[32;43m1\u001b[39;49m\u001b[43m)\u001b[49m \u001b[38;5;66;03m# 0 for vertical seams, 1 for horizontal seams\u001b[39;00m\n\u001b[32m     10\u001b[39m \u001b[38;5;66;03m# 4) Display the original and carved images\u001b[39;00m\n\u001b[32m     11\u001b[39m plt.figure(figsize=(\u001b[32m12\u001b[39m, \u001b[32m6\u001b[39m))\n",
      "\u001b[36mFile \u001b[39m\u001b[32m~/Bureau/seam_carving_project/class_SeamCarver.py:310\u001b[39m, in \u001b[36mSeamCarver.seam_carve\u001b[39m\u001b[34m(self, num_seams, method, orientation)\u001b[39m\n\u001b[32m    307\u001b[39m \u001b[38;5;28;01mif\u001b[39;00m num_seams >= \u001b[32m0\u001b[39m:\n\u001b[32m    308\u001b[39m     \u001b[38;5;28;01mfor\u001b[39;00m _ \u001b[38;5;129;01min\u001b[39;00m \u001b[38;5;28mrange\u001b[39m(num_seams):\n\u001b[32m    309\u001b[39m         \u001b[38;5;66;03m# 1) Compute the energy map\u001b[39;00m\n\u001b[32m--> \u001b[39m\u001b[32m310\u001b[39m         energy = \u001b[38;5;28;43mself\u001b[39;49m\u001b[43m.\u001b[49m\u001b[43mcompute_energy\u001b[49m\u001b[43m(\u001b[49m\u001b[43mmethod\u001b[49m\u001b[43m)\u001b[49m\n\u001b[32m    311\u001b[39m         \u001b[38;5;66;03m# 2) Find the seam\u001b[39;00m\n\u001b[32m    312\u001b[39m         orientation_flag = \u001b[32m0\u001b[39m \u001b[38;5;28;01mif\u001b[39;00m orientation == \u001b[33m'\u001b[39m\u001b[33mvertical\u001b[39m\u001b[33m'\u001b[39m \u001b[38;5;28;01melse\u001b[39;00m \u001b[32m1\u001b[39m\n",
      "\u001b[36mFile \u001b[39m\u001b[32m~/Bureau/seam_carving_project/class_SeamCarver.py:218\u001b[39m, in \u001b[36mSeamCarver.compute_energy\u001b[39m\u001b[34m(self, method)\u001b[39m\n\u001b[32m    215\u001b[39m     energy = eHoG\n\u001b[32m    217\u001b[39m \u001b[38;5;28;01melif\u001b[39;00m method == \u001b[33m'\u001b[39m\u001b[33mfast_HOG\u001b[39m\u001b[33m'\u001b[39m:\n\u001b[32m--> \u001b[39m\u001b[32m218\u001b[39m     \u001b[38;5;28;01mreturn\u001b[39;00m \u001b[43mcompute_hog_custom_parallel\u001b[49m\u001b[43m(\u001b[49m\u001b[43mgray\u001b[49m\u001b[43m)\u001b[49m  \u001b[38;5;66;03m# version rapide\u001b[39;00m\n\u001b[32m    220\u001b[39m \u001b[38;5;28;01melif\u001b[39;00m method == \u001b[33m'\u001b[39m\u001b[33mskimage_entropy\u001b[39m\u001b[33m'\u001b[39m:\n\u001b[32m    221\u001b[39m     gray_u8 = gray  \u001b[38;5;66;03m# already uint8\u001b[39;00m\n",
      "\u001b[36mFile \u001b[39m\u001b[32m~/Bureau/seam_carving_project/class_SeamCarver.py:98\u001b[39m, in \u001b[36mcompute_hog_custom_parallel\u001b[39m\u001b[34m(gray, win_size, nbins)\u001b[39m\n\u001b[32m     95\u001b[39m coords = [(y, x) \u001b[38;5;28;01mfor\u001b[39;00m y \u001b[38;5;129;01min\u001b[39;00m \u001b[38;5;28mrange\u001b[39m(rows) \u001b[38;5;28;01mfor\u001b[39;00m x \u001b[38;5;129;01min\u001b[39;00m \u001b[38;5;28mrange\u001b[39m(cols)]\n\u001b[32m     97\u001b[39m \u001b[38;5;66;03m# 4. Appels parallèles à compute_pixel_hog()\u001b[39;00m\n\u001b[32m---> \u001b[39m\u001b[32m98\u001b[39m results = \u001b[43mParallel\u001b[49m\u001b[43m(\u001b[49m\u001b[43mn_jobs\u001b[49m\u001b[43m=\u001b[49m\u001b[43m-\u001b[49m\u001b[32;43m1\u001b[39;49m\u001b[43m,\u001b[49m\u001b[43m \u001b[49m\u001b[43mprefer\u001b[49m\u001b[43m=\u001b[49m\u001b[33;43m\"\u001b[39;49m\u001b[33;43mthreads\u001b[39;49m\u001b[33;43m\"\u001b[39;49m\u001b[43m)\u001b[49m\u001b[43m(\u001b[49m\n\u001b[32m     99\u001b[39m \u001b[43m    \u001b[49m\u001b[43mdelayed\u001b[49m\u001b[43m(\u001b[49m\u001b[43mcompute_pixel_hog\u001b[49m\u001b[43m)\u001b[49m\u001b[43m(\u001b[49m\u001b[43my\u001b[49m\u001b[43m,\u001b[49m\u001b[43m \u001b[49m\u001b[43mx\u001b[49m\u001b[43m,\u001b[49m\u001b[43mrows\u001b[49m\u001b[43m,\u001b[49m\u001b[43m \u001b[49m\u001b[43mcols\u001b[49m\u001b[43m,\u001b[49m\u001b[43m \u001b[49m\u001b[43mangle\u001b[49m\u001b[43m,\u001b[49m\u001b[43m \u001b[49m\u001b[43mmagnitude\u001b[49m\u001b[43m,\u001b[49m\u001b[43m \u001b[49m\u001b[43mhalf\u001b[49m\u001b[43m,\u001b[49m\u001b[43m \u001b[49m\u001b[43mbin_edges\u001b[49m\u001b[43m)\u001b[49m\n\u001b[32m    100\u001b[39m \u001b[43m    \u001b[49m\u001b[38;5;28;43;01mfor\u001b[39;49;00m\u001b[43m \u001b[49m\u001b[43my\u001b[49m\u001b[43m,\u001b[49m\u001b[43m \u001b[49m\u001b[43mx\u001b[49m\u001b[43m \u001b[49m\u001b[38;5;129;43;01min\u001b[39;49;00m\u001b[43m \u001b[49m\u001b[43mcoords\u001b[49m\n\u001b[32m    101\u001b[39m \u001b[43m\u001b[49m\u001b[43m)\u001b[49m\n\u001b[32m    103\u001b[39m \u001b[38;5;66;03m# 5. Reconstruction de l'image finale\u001b[39;00m\n\u001b[32m    104\u001b[39m eHoG = np.zeros((rows, cols), dtype=np.float64)\n",
      "\u001b[36mFile \u001b[39m\u001b[32m~/work_env/lib/python3.12/site-packages/joblib/parallel.py:2071\u001b[39m, in \u001b[36mParallel.__call__\u001b[39m\u001b[34m(self, iterable)\u001b[39m\n\u001b[32m   2065\u001b[39m \u001b[38;5;66;03m# The first item from the output is blank, but it makes the interpreter\u001b[39;00m\n\u001b[32m   2066\u001b[39m \u001b[38;5;66;03m# progress until it enters the Try/Except block of the generator and\u001b[39;00m\n\u001b[32m   2067\u001b[39m \u001b[38;5;66;03m# reaches the first `yield` statement. This starts the asynchronous\u001b[39;00m\n\u001b[32m   2068\u001b[39m \u001b[38;5;66;03m# dispatch of the tasks to the workers.\u001b[39;00m\n\u001b[32m   2069\u001b[39m \u001b[38;5;28mnext\u001b[39m(output)\n\u001b[32m-> \u001b[39m\u001b[32m2071\u001b[39m \u001b[38;5;28;01mreturn\u001b[39;00m output \u001b[38;5;28;01mif\u001b[39;00m \u001b[38;5;28mself\u001b[39m.return_generator \u001b[38;5;28;01melse\u001b[39;00m \u001b[38;5;28;43mlist\u001b[39;49m\u001b[43m(\u001b[49m\u001b[43moutput\u001b[49m\u001b[43m)\u001b[49m\n",
      "\u001b[36mFile \u001b[39m\u001b[32m~/work_env/lib/python3.12/site-packages/joblib/parallel.py:1681\u001b[39m, in \u001b[36mParallel._get_outputs\u001b[39m\u001b[34m(self, iterator, pre_dispatch)\u001b[39m\n\u001b[32m   1678\u001b[39m     \u001b[38;5;28;01myield\u001b[39;00m\n\u001b[32m   1680\u001b[39m     \u001b[38;5;28;01mwith\u001b[39;00m \u001b[38;5;28mself\u001b[39m._backend.retrieval_context():\n\u001b[32m-> \u001b[39m\u001b[32m1681\u001b[39m         \u001b[38;5;28;01myield from\u001b[39;00m \u001b[38;5;28mself\u001b[39m._retrieve()\n\u001b[32m   1683\u001b[39m \u001b[38;5;28;01mexcept\u001b[39;00m \u001b[38;5;167;01mGeneratorExit\u001b[39;00m:\n\u001b[32m   1684\u001b[39m     \u001b[38;5;66;03m# The generator has been garbage collected before being fully\u001b[39;00m\n\u001b[32m   1685\u001b[39m     \u001b[38;5;66;03m# consumed. This aborts the remaining tasks if possible and warn\u001b[39;00m\n\u001b[32m   1686\u001b[39m     \u001b[38;5;66;03m# the user if necessary.\u001b[39;00m\n\u001b[32m   1687\u001b[39m     \u001b[38;5;28mself\u001b[39m._exception = \u001b[38;5;28;01mTrue\u001b[39;00m\n",
      "\u001b[36mFile \u001b[39m\u001b[32m~/work_env/lib/python3.12/site-packages/joblib/parallel.py:1799\u001b[39m, in \u001b[36mParallel._retrieve\u001b[39m\u001b[34m(self)\u001b[39m\n\u001b[32m   1788\u001b[39m \u001b[38;5;28;01mif\u001b[39;00m \u001b[38;5;28mself\u001b[39m.return_ordered:\n\u001b[32m   1789\u001b[39m     \u001b[38;5;66;03m# Case ordered: wait for completion (or error) of the next job\u001b[39;00m\n\u001b[32m   1790\u001b[39m     \u001b[38;5;66;03m# that have been dispatched and not retrieved yet. If no job\u001b[39;00m\n\u001b[32m   (...)\u001b[39m\u001b[32m   1794\u001b[39m     \u001b[38;5;66;03m# control only have to be done on the amount of time the next\u001b[39;00m\n\u001b[32m   1795\u001b[39m     \u001b[38;5;66;03m# dispatched job is pending.\u001b[39;00m\n\u001b[32m   1796\u001b[39m     \u001b[38;5;28;01mif\u001b[39;00m (nb_jobs == \u001b[32m0\u001b[39m) \u001b[38;5;129;01mor\u001b[39;00m (\n\u001b[32m   1797\u001b[39m         \u001b[38;5;28mself\u001b[39m._jobs[\u001b[32m0\u001b[39m].get_status(timeout=\u001b[38;5;28mself\u001b[39m.timeout) == TASK_PENDING\n\u001b[32m   1798\u001b[39m     ):\n\u001b[32m-> \u001b[39m\u001b[32m1799\u001b[39m         \u001b[43mtime\u001b[49m\u001b[43m.\u001b[49m\u001b[43msleep\u001b[49m\u001b[43m(\u001b[49m\u001b[32;43m0.01\u001b[39;49m\u001b[43m)\u001b[49m\n\u001b[32m   1800\u001b[39m         \u001b[38;5;28;01mcontinue\u001b[39;00m\n\u001b[32m   1802\u001b[39m \u001b[38;5;28;01melif\u001b[39;00m nb_jobs == \u001b[32m0\u001b[39m:\n\u001b[32m   1803\u001b[39m     \u001b[38;5;66;03m# Case unordered: jobs are added to the list of jobs to\u001b[39;00m\n\u001b[32m   1804\u001b[39m     \u001b[38;5;66;03m# retrieve `self._jobs` only once completed or in error, which\u001b[39;00m\n\u001b[32m   (...)\u001b[39m\u001b[32m   1810\u001b[39m     \u001b[38;5;66;03m# timeouts before any other dispatched job has completed and\u001b[39;00m\n\u001b[32m   1811\u001b[39m     \u001b[38;5;66;03m# been added to `self._jobs` to be retrieved.\u001b[39;00m\n",
      "\u001b[31mKeyboardInterrupt\u001b[39m: "
     ]
    }
   ],
   "source": [
    "# 1) Create a SeamCarver object\n",
    "sc = SeamCarver(girls_image)\n",
    "\n",
    "# 2) Define the number of seams to remove\n",
    "num_seams = 200\n",
    "\n",
    "# 3) Perform seam carving\n",
    "carved_image = sc.seam_carve(num_seams, method='l2',orientation=1) # 0 for vertical seams, 1 for horizontal seams\n",
    "\n",
    "# 4) Display the original and carved images\n",
    "plt.figure(figsize=(12, 6))\n",
    "\n",
    "plt.subplot(1, 2, 1)\n",
    "plt.imshow(cv2.cvtColor(girls_image, cv2.COLOR_BGR2RGB))\n",
    "plt.title('Original Image')\n",
    "plt.axis('off')\n",
    "\n",
    "plt.subplot(1, 2, 2)\n",
    "plt.imshow(cv2.cvtColor(carved_image.astype(np.uint8), cv2.COLOR_BGR2RGB))\n",
    "plt.title('Carved Image')\n",
    "plt.axis('off')\n",
    "\n",
    "plt.tight_layout()\n",
    "plt.show()\n",
    "\n",
    "print(\"Original Image Shape:\", girls_image.shape)\n",
    "print(\"Carved Image Shape:\", carved_image.shape)"
   ]
  }
 ],
 "metadata": {
  "kernelspec": {
   "display_name": "Nom Lisible du Kernel",
   "language": "python",
   "name": "nom_kernel"
  },
  "language_info": {
   "codemirror_mode": {
    "name": "ipython",
    "version": 3
   },
   "file_extension": ".py",
   "mimetype": "text/x-python",
   "name": "python",
   "nbconvert_exporter": "python",
   "pygments_lexer": "ipython3",
   "version": "3.12.3"
  }
 },
 "nbformat": 4,
 "nbformat_minor": 5
}
